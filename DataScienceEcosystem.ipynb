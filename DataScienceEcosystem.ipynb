{
  "nbformat": 4,
  "nbformat_minor": 0,
  "metadata": {
    "colab": {
      "provenance": [],
      "authorship_tag": "ABX9TyOjROiExQAuw8HJUnEPOp5L",
      "include_colab_link": true
    },
    "kernelspec": {
      "name": "python3",
      "display_name": "Python 3"
    },
    "language_info": {
      "name": "python"
    }
  },
  "cells": [
    {
      "cell_type": "markdown",
      "metadata": {
        "id": "view-in-github",
        "colab_type": "text"
      },
      "source": [
        "<a href=\"https://colab.research.google.com/github/ravigithub51/colabrepo/blob/main/DataScienceEcosystem.ipynb\" target=\"_parent\"><img src=\"https://colab.research.google.com/assets/colab-badge.svg\" alt=\"Open In Colab\"/></a>"
      ]
    },
    {
      "cell_type": "markdown",
      "source": [
        "# Data Science tools and Ecosystem"
      ],
      "metadata": {
        "id": "3UFUjwd42Rsy"
      }
    },
    {
      "cell_type": "code",
      "execution_count": null,
      "metadata": {
        "id": "A1teHZNS1jIB"
      },
      "outputs": [],
      "source": []
    },
    {
      "cell_type": "markdown",
      "source": [],
      "metadata": {
        "id": "6GS7bfwRhism"
      }
    },
    {
      "cell_type": "markdown",
      "source": [
        "In this notebook, Data Science Tools and Ecosystem are summarized.\n"
      ],
      "metadata": {
        "id": "Pnay4R_a5PBO"
      }
    },
    {
      "cell_type": "markdown",
      "source": [
        "**Objectives:**\n",
        "Create a Jupyter Notebook, Create a markdown cell with the title of the notebook, Create a markdown cell for an introduction, Create a markdown cell with a table of Data Science Tools, Create a markdown cell introducing arithmetic expression examples\n",
        "\n",
        "\n",
        "*   Python\n",
        "*   R\n",
        "\n",
        "*   SQL\n",
        "*   Java\n",
        "\n",
        "*   Scala\n",
        "*   JavaScript\n",
        "\n",
        "\n",
        "\n",
        "\n"
      ],
      "metadata": {
        "id": "Vj2-sqEMd1Ad"
      }
    },
    {
      "cell_type": "markdown",
      "source": [
        "## Author\n",
        "Ravi Kumar Singh"
      ],
      "metadata": {
        "id": "GR715aG3h6ca"
      }
    },
    {
      "cell_type": "markdown",
      "source": [
        "Some of the popular Languages that Data Scientists use are:\n",
        "\n",
        "\n",
        "1.   Python\n",
        "2.   R\n",
        "\n",
        "1.   SQL\n",
        "2.   java\n",
        "\n",
        "1.   Scala\n",
        "2.   JavaScript\n",
        "\n",
        "\n",
        "\n",
        "\n",
        "\n",
        "\n",
        "\n"
      ],
      "metadata": {
        "id": "OSAwHJY_6iny"
      }
    },
    {
      "cell_type": "markdown",
      "source": [
        "Some of the commonly used libraries used by Data Scientists include:\n",
        "\n",
        "\n",
        "1.   TensorFlow\n",
        "2.   NumPy\n",
        "3.   SciKit-Learn\n",
        "4.   Pandas\n",
        "5.   PyTorch\n",
        "6.   Matplotlib\n",
        "\n",
        "\n",
        "\n",
        "\n",
        "\n"
      ],
      "metadata": {
        "id": "kBbX6_wE7sAr"
      }
    },
    {
      "cell_type": "markdown",
      "source": [
        "| Data Science Tools |\n",
        "| -------------------|\n",
        "| Spyder             |\n",
        "| JupyterLabs        |\n",
        "| RStudio            |\n",
        "\n",
        "\n"
      ],
      "metadata": {
        "id": "UMTfar4MS9GL"
      }
    },
    {
      "cell_type": "markdown",
      "source": [
        "### Below are a few examples of evaluating arithmetic expressions in Python"
      ],
      "metadata": {
        "id": "WAIhhxiTUi9X"
      }
    },
    {
      "cell_type": "code",
      "source": [
        "#This a simple arithmetic expression to mutiply then add integers\n",
        "(3*4)+5"
      ],
      "metadata": {
        "colab": {
          "base_uri": "https://localhost:8080/"
        },
        "id": "OTL1-JT2X1G-",
        "outputId": "bb64cfad-a4cf-4f5c-bdb1-c8ca41948375"
      },
      "execution_count": 2,
      "outputs": [
        {
          "output_type": "execute_result",
          "data": {
            "text/plain": [
              "17"
            ]
          },
          "metadata": {},
          "execution_count": 2
        }
      ]
    },
    {
      "cell_type": "code",
      "source": [
        "#This will convert 200 minutes to hours by diving by 60\n",
        "\n",
        "\n",
        "def convert(minutes):\n",
        "\thour = minutes // 60\n",
        "\treturn \"%d\" % (hour)\n",
        "n = 200\n",
        "print(convert(n)+ \" hour\")\n"
      ],
      "metadata": {
        "colab": {
          "base_uri": "https://localhost:8080/"
        },
        "id": "GTehXLvFZ6hL",
        "outputId": "216c41ca-4d4a-42f1-f956-b959b7e59203"
      },
      "execution_count": 5,
      "outputs": [
        {
          "output_type": "stream",
          "name": "stdout",
          "text": [
            "3 hour\n"
          ]
        }
      ]
    },
    {
      "cell_type": "markdown",
      "source": [],
      "metadata": {
        "id": "TvWQFuUxdoCX"
      }
    }
  ]
}